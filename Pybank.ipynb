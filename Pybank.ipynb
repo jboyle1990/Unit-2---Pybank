{
 "cells": [
  {
   "cell_type": "code",
   "execution_count": 10,
   "id": "c41ceb73-a988-4f80-8ccc-6c98017b455c",
   "metadata": {},
   "outputs": [
    {
     "name": "stdout",
     "output_type": "stream",
     "text": [
      "Current Working Directory: C:\\Users\\12152\\Penn LPS - Bootcamp\\02-Python\\Homework\\PyBank\n"
     ]
    }
   ],
   "source": [
    "#Import Path function from Path library, identify current path, and import csv library\n",
    "from pathlib import Path\n",
    "print(f\"Current Working Directory: {Path.cwd()}\")\n",
    "\n",
    "import csv"
   ]
  },
  {
   "cell_type": "code",
   "execution_count": 11,
   "id": "7e11069d-b6dd-451d-96ba-8ebfaf021870",
   "metadata": {},
   "outputs": [],
   "source": [
    "#Set relative file path to csv data file\n",
    "budget_data_filepath = Path('budget_data.csv')"
   ]
  },
  {
   "cell_type": "code",
   "execution_count": 12,
   "id": "b2d3a1a0-b0b5-4f6a-b9bb-0e034138a208",
   "metadata": {},
   "outputs": [],
   "source": [
    "#Define the variables for the analysis\n",
    "total_months = 0\n",
    "total_pnl = 0\n",
    "previous_month_pnl = 0\n",
    "current_month_pnl = 0\n",
    "monthly_pnl_change = 0\n",
    "total_monthly_pnl_change = 0\n",
    "average_pnl_change = 0\n",
    "greatest_profits_increase = 0\n",
    "greatest_profits_decrease = 0\n",
    "greatest_profits_increase_month = 0\n",
    "greatest_profits_decrease_month = 0"
   ]
  },
  {
   "cell_type": "code",
   "execution_count": 13,
   "id": "8ff79dad-8b3a-4815-b865-8693ddae4a2a",
   "metadata": {},
   "outputs": [],
   "source": [
    "#Open the csv data file as an object\n",
    "with open(budget_data_filepath, 'r') as csv_data_file:\n",
    "\n",
    "    #Pass the csv data file with budget data into the csv reader with a ',' deliminter\n",
    "    csv_reader = csv.reader(csv_data_file,delimiter=',')\n",
    "    \n",
    "    #Read the header row first and skip it in the analysis\n",
    "    header = next(csv_reader)\n",
    "        \n",
    "    #Iterate over each row of the csv data file after the header\n",
    "    for row in csv_reader:\n",
    "        \n",
    "        #Set the 'date' and 'profit/losses' to variables for readability and convert 'profits/losses' from strings to integers for calculations\n",
    "        date = row[0]\n",
    "        pnl = int(row[1])\n",
    "        \n",
    "        #Calculate the total months and total P&L\n",
    "        total_months += 1\n",
    "        total_pnl += pnl\n",
    "        \n",
    "        #Set the current month's P&L and then calculate the 'Monthly P&L Change'\n",
    "        current_month_pnl = pnl\n",
    "        \n",
    "        if previous_month_pnl == 0:\n",
    "            monthly_pnl_change = 0\n",
    "        else:\n",
    "            monthly_pnl_change = current_month_pnl - previous_month_pnl\n",
    "                       \n",
    "        #Calculate the net total monthly P&L changes for the calculation of average monthly P&L change\n",
    "        total_monthly_pnl_change += monthly_pnl_change\n",
    "        \n",
    "        #Determine and update the variables for the greatest profit increase and decrease\n",
    "        if (monthly_pnl_change > 0) and (monthly_pnl_change > greatest_profits_increase):\n",
    "            greatest_profits_increase = monthly_pnl_change\n",
    "            greatest_profits_increase_month = date\n",
    "        elif (monthly_pnl_change < 0) and (monthly_pnl_change < greatest_profits_decrease):\n",
    "            greatest_profits_decrease = monthly_pnl_change\n",
    "            greatest_profits_decrease_month = date\n",
    "\n",
    "        #Now set your current month's P&L to the previous month's P&L for the next iteration\n",
    "        previous_month_pnl = current_month_pnl"
   ]
  },
  {
   "cell_type": "code",
   "execution_count": 14,
   "id": "e753335f-ed64-4dd5-b8e2-5e7ffbcde40a",
   "metadata": {},
   "outputs": [],
   "source": [
    "#Calculate the average P&L change using one month less than the total since no change can be calculated with the first month\n",
    "average_pnl_change = total_monthly_pnl_change / (total_months - 1)"
   ]
  },
  {
   "cell_type": "code",
   "execution_count": 15,
   "id": "0dfac815-771c-43e6-ba1f-5fc73447327f",
   "metadata": {},
   "outputs": [
    {
     "name": "stdout",
     "output_type": "stream",
     "text": [
      "Financial Analysis\n",
      "----------------------------\n",
      "Total Months: 86\n",
      "Net Total P&L: $38,382,578\n",
      "Average P&L Change: $-2,315.12\n",
      "Greatest Increase in Profits: Feb-2012 ($1,926,159)\n",
      "Greatest Decrease in Profits: Sep-2013 ($-2,196,167)\n"
     ]
    }
   ],
   "source": [
    "#Print the results of the analysis to the terminal and export to a text file\n",
    "print(\"Financial Analysis\")\n",
    "print(\"----------------------------\")\n",
    "print(f\"Total Months: {total_months:,}\")\n",
    "print(f\"Net Total P&L: ${total_pnl:,}\")\n",
    "print(f\"Average P&L Change: ${average_pnl_change:,.2f}\")\n",
    "print(f\"Greatest Increase in Profits: {greatest_profits_increase_month} (${greatest_profits_increase:,})\")\n",
    "print(f\"Greatest Decrease in Profits: {greatest_profits_decrease_month} (${greatest_profits_decrease:,})\")"
   ]
  },
  {
   "cell_type": "code",
   "execution_count": 16,
   "id": "4123ce47-2ee4-469a-b769-1758de6a21dd",
   "metadata": {},
   "outputs": [],
   "source": [
    "#Set the output file path\n",
    "output_filepath = Path(\"Results_Summary.txt\")"
   ]
  },
  {
   "cell_type": "code",
   "execution_count": 17,
   "id": "980c191e-351e-465a-8300-73ef9f4d6b63",
   "metadata": {},
   "outputs": [],
   "source": [
    "#Write the contents of the analysis results to the text file\n",
    "with open(output_filepath,'w') as file:\n",
    "    file.write(\"Financial Analysis\\n\")\n",
    "    file.write(\"----------------------------\\n\")\n",
    "    file.write(f\"Total Months: {total_months:,}\\n\")\n",
    "    file.write(f\"Net Total P&L: ${total_pnl:,}\\n\")\n",
    "    file.write(f\"Average P&L Change: ${average_pnl_change:,.2f}\\n\")\n",
    "    file.write(f\"Greatest Increase in Profits: {greatest_profits_increase_month} (${greatest_profits_increase:,})\\n\")\n",
    "    file.write(f\"Greatest Decrease in Profits: {greatest_profits_decrease_month} (${greatest_profits_decrease:,})\\n\")"
   ]
  },
  {
   "cell_type": "code",
   "execution_count": null,
   "id": "9ec06808-e8cf-4566-9285-62e349b59625",
   "metadata": {},
   "outputs": [],
   "source": []
  }
 ],
 "metadata": {
  "kernelspec": {
   "display_name": "Python 3 (ipykernel)",
   "language": "python",
   "name": "python3"
  },
  "language_info": {
   "codemirror_mode": {
    "name": "ipython",
    "version": 3
   },
   "file_extension": ".py",
   "mimetype": "text/x-python",
   "name": "python",
   "nbconvert_exporter": "python",
   "pygments_lexer": "ipython3",
   "version": "3.8.8"
  }
 },
 "nbformat": 4,
 "nbformat_minor": 5
}
